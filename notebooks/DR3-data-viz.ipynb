{
 "cells": [
  {
   "cell_type": "code",
   "execution_count": 1,
   "id": "5305e01a",
   "metadata": {
    "ExecuteTime": {
     "end_time": "2022-12-30T21:41:58.138169Z",
     "start_time": "2022-12-30T21:41:57.326369Z"
    }
   },
   "outputs": [],
   "source": [
    "import astropy.coordinates as coord\n",
    "import astropy.table as at\n",
    "import astropy.units as u\n",
    "import matplotlib as mpl\n",
    "import matplotlib.pyplot as plt\n",
    "%matplotlib inline\n",
    "import numpy as np\n",
    "\n",
    "from pyia import GaiaData"
   ]
  },
  {
   "cell_type": "code",
   "execution_count": null,
   "id": "d13b7a56",
   "metadata": {},
   "outputs": [],
   "source": []
  },
  {
   "cell_type": "code",
   "execution_count": 3,
   "id": "81d33d40",
   "metadata": {
    "ExecuteTime": {
     "end_time": "2022-12-30T21:42:12.356648Z",
     "start_time": "2022-12-30T21:42:12.215651Z"
    }
   },
   "outputs": [
    {
     "name": "stdout",
     "output_type": "stream",
     "text": [
      "-rw-r--r--@ 1 apricewhelan  staff   3.5G Dec 14 16:22 ../src/data/dr3-rv-plx0.2-gspphot.fits\r\n"
     ]
    }
   ],
   "source": [
    "!ls -lh ../src/data/dr3-rv-plx0.2-gspphot.fits"
   ]
  },
  {
   "cell_type": "code",
   "execution_count": null,
   "id": "0218f1f6",
   "metadata": {},
   "outputs": [],
   "source": []
  },
  {
   "cell_type": "code",
   "execution_count": null,
   "id": "1edddb3e",
   "metadata": {},
   "outputs": [],
   "source": []
  }
 ],
 "metadata": {
  "kernelspec": {
   "display_name": "Python [conda env:root] *",
   "language": "python",
   "name": "conda-root-py"
  },
  "language_info": {
   "codemirror_mode": {
    "name": "ipython",
    "version": 3
   },
   "file_extension": ".py",
   "mimetype": "text/x-python",
   "name": "python",
   "nbconvert_exporter": "python",
   "pygments_lexer": "ipython3",
   "version": "3.10.4"
  },
  "toc": {
   "base_numbering": 1,
   "nav_menu": {},
   "number_sections": true,
   "sideBar": true,
   "skip_h1_title": false,
   "title_cell": "Table of Contents",
   "title_sidebar": "Contents",
   "toc_cell": false,
   "toc_position": {},
   "toc_section_display": true,
   "toc_window_display": false
  }
 },
 "nbformat": 4,
 "nbformat_minor": 5
}
